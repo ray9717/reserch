{
 "cells": [
  {
   "cell_type": "code",
   "execution_count": 1,
   "metadata": {
    "ExecuteTime": {
     "end_time": "2021-02-11T07:53:51.346762Z",
     "start_time": "2021-02-11T07:53:46.224239Z"
    }
   },
   "outputs": [
    {
     "name": "stdout",
     "output_type": "stream",
     "text": [
      "[-327.92803927  335.4674251 ]\n"
     ]
    }
   ],
   "source": [
    "# エラー関数\n",
    "import numpy as np\n",
    "import pandas as pd\n",
    "import matplotlib.pyplot as plt\n",
    "import os\n",
    "import math\n",
    "\n",
    "# データ(データフレーム)\n",
    "df = pd.read_csv('fitting.csv')\n",
    "\n",
    "# print(df)\n",
    "\n",
    "from scipy import optimize\n",
    "from sklearn.metrics import r2_score\n",
    "x = np.arange(0, 5, 0.01)\n",
    "\n",
    "# def ekusuponensyal(param,x,y):\n",
    "#     residual = y - param[0]*(1 + np.erf(param[1] * ( x - param[2]) / param[3] ))* 0.5\n",
    "#     return residual\n",
    "   \n",
    "def ekusuponensyal(param,x,y):\n",
    "    residual = y - 90*(1 + np.erf(param[0] * ( x - 2.8) / param[1] ))* 0.5\n",
    "    return residual\n",
    "\n",
    "# 初期値 = [90, np.sqrt(2), 2.8, 8e-1] # 初期値 = [90, np.sqrt(2), 2.8, 8e-1]\n",
    "初期値 = [np.sqrt(2), 8e-1]\n",
    "\n",
    "fitParam = optimize.leastsq( ekusuponensyal, 初期値, args=(np.array(df[\"位置[um]\"]), np.array(df[\"反射光強度[mV]\"])) )\n",
    "# fitResult = 90*(1 + fitParam[0][0] * ( x - fitParam[0][1]) / fitParam[0][2] )* 0.5 # フィットした結果\n",
    "\n",
    "# fitResult = fitParam[0][0]*(1 + np.erf(fitParam[0][1] * ( x - fitParam[0][2]) / fitParam[0][3]) )* 0.5 # フィットした結果\n",
    "\n",
    "fitResult = 90*(1 + np.erf(fitParam[0][0] * ( x - 2.8) / fitParam[0][1]) )* 0.5\n",
    "\n",
    "# R2 = r2_score(df[\"反射光強度[mV]\"], 1/(np.exp(fitParam[0][0]*np.array(df[\"位置[um]\"])) + 1)) # 決定係数\n",
    "plt.plot(x,fitResult) # フィット\n",
    "plt.plot(df[\"位置[um]\"],df[\"反射光強度[mV]\"]) # 元データ\n",
    "\n",
    "# fitSyudo = 90*(1 + np.erf(-np.sqrt(2) * ( x - 2.8) / (8e-1) ) )* 0.5 # 手動\n",
    "# plt.plot(x,fitSyudo)\n",
    "\n",
    "\n",
    "# plt.xlim(0, 5)\n",
    "# plt.ylim([0, 100]) \n",
    "print(fitParam[0])"
   ]
  },
  {
   "cell_type": "code",
   "execution_count": 27,
   "metadata": {
    "ExecuteTime": {
     "end_time": "2020-02-16T09:10:14.578909Z",
     "start_time": "2020-02-16T09:10:14.347525Z"
    }
   },
   "outputs": [
    {
     "name": "stdout",
     "output_type": "stream",
     "text": [
      "決定係数：0.9769487347241217\n",
      "[ 2.90608524e+00  9.12153029e-03 -6.62947945e-09]\n"
     ]
    },
    {
     "data": {
      "image/png": "[encoded data removed]",
      "text/plain": [
       "<Figure size 432x288 with 1 Axes>"
      ]
     },
     "metadata": {
      "needs_background": "light"
     },
     "output_type": "display_data"
    }
   ],
   "source": [
    "# Marcos 2008 eq.9\n",
    "import numpy as np\n",
    "import pandas as pd\n",
    "import sympy as sy\n",
    "import matplotlib.pyplot as plt\n",
    "import os\n",
    "import math\n",
    "\n",
    "# データ(データフレーム)\n",
    "df = pd.read_csv('fitting.csv')\n",
    "\n",
    "# print(df)\n",
    "\n",
    "from scipy import optimize\n",
    "from sklearn.metrics import r2_score\n",
    "x = np.arange(0, 5, 0.01)\n",
    "\n",
    "# 定数\n",
    "w = 5e-3\n",
    "\n",
    "# --------------------------------------目盛り線の調整-----------------------------------------------------------\n",
    "plt.gca().xaxis.set_tick_params(which='major', direction='in',bottom=True, top=True, left=True, right=True)\n",
    "plt.gca().xaxis.set_tick_params(which='minor', direction='in',bottom=False, top=False, left=False, right=False)\n",
    "plt.gca().yaxis.set_tick_params(which='both', direction='in',bottom=True, top=True, left=True, right=True)\n",
    "plt.tick_params(which='major', width = 0.5, length = 8)\n",
    "plt.tick_params(which='minor', width = 0.5, length = 3)\n",
    "# ---------------------------------------------------------------------------------------------------------\n",
    "\n",
    "plt.xlim(0, 5) # 横軸範囲設定\n",
    "plt.ylim([0, 100]) # 縦軸範囲設定\n",
    "plt.xlabel(\"Position [μm]\", fontsize=18) # 横軸ラベル\n",
    "plt.ylabel(\"Voltage [mV]\", fontsize=18) # 縦軸ラベル\n",
    "\n",
    "# param>> 0: x0, 1:a1. 2:a2  \n",
    "def ekusuponensyal(param,x,y):\n",
    "    s = np.sqrt(2) * ( x - param[0] ) / w \n",
    "    residual = y - 90 / (1 + np.exp(param[1] * s + param[2] * s** 3))\n",
    "    return residual\n",
    "\n",
    "\n",
    "\n",
    "# 初期値 = [90, np.sqrt(2), 2.8, 8e-1] # 初期値 = [90, np.sqrt(2), 2.8, 8e-1]\n",
    "初期値 = [2.8, 0 ,0]\n",
    "# 初期値 = [2.8, -4e-3 ,0]\n",
    "\n",
    "fitParam = optimize.leastsq( ekusuponensyal, 初期値, args=(np.array(df[\"位置[um]\"]), np.array(df[\"反射光強度[mV]\"])) )\n",
    "# fitResult = 90*(1 + fitParam[0][0] * ( x - fitParam[0][1]) / fitParam[0][2] )* 0.5 # フィットした結果\n",
    "\n",
    "# fitResult = fitParam[0][0]*(1 + np.erf(fitParam[0][1] * ( x - fitParam[0][2]) / fitParam[0][3]) )* 0.5 # フィットした結果\n",
    "\n",
    "sresult = np.sqrt(2) * ( x - fitParam[0][0] ) / w \n",
    "fitResult = 90 / (1 + np.exp(fitParam[0][1] * sresult + fitParam[0][2] * sresult** 3))\n",
    "\n",
    "xforR2 = np.arange(0, 5.1, 0.1)\n",
    "# print(xforR2)\n",
    "sresultforR2 = np.sqrt(2) * ( xforR2 - fitParam[0][0] ) / w \n",
    "R2 = r2_score(df[\"反射光強度[mV]\"], 90 / (1 + np.exp(fitParam[0][1] * sresultforR2 + fitParam[0][2] * sresultforR2** 3))) # 決定係数\n",
    "print(\"決定係数：{}\".format(R2))\n",
    "\n",
    "plt.plot(x,fitResult,label=\"fitting curve\") # フィット\n",
    "# plt.plot(df[\"位置[um]\"],df[\"反射光強度[mV]\"]) # 元データ\n",
    "plt.scatter(df[\"位置[um]\"],df[\"反射光強度[mV]\"],c='red',label=\"data\")\n",
    "\n",
    "plt.legend()\n",
    "\n",
    "# fitSyudo = 90*(1 + np.erf(-np.sqrt(2) * ( x - 2.8) / (8e-1) ) )* 0.5 # 手動\n",
    "# plt.plot(x,fitSyudo)\n",
    "\n",
    "# plt.xlim(0, 5)\n",
    "# plt.ylim([0, 100]) \n",
    "print(fitParam[0])"
   ]
  },
  {
   "cell_type": "code",
   "execution_count": 28,
   "metadata": {
    "ExecuteTime": {
     "end_time": "2020-02-16T09:10:18.199179Z",
     "start_time": "2020-02-16T09:10:18.020654Z"
    },
    "scrolled": false
   },
   "outputs": [
    {
     "name": "stdout",
     "output_type": "stream",
     "text": [
      "90*(-0.318215013750376*sqrt(2)*(xval - 2.90608523812595)**2 + 1.82430605861161*sqrt(2))*exp(-0.106071671250125*sqrt(2)*(xval - 2.90608523812595)**3 + 1.82430605861161*sqrt(2)*(xval - 2.90608523812595))/(exp(-0.106071671250125*sqrt(2)*(xval - 2.90608523812595)**3 + 1.82430605861161*sqrt(2)*(xval - 2.90608523812595)) + 1)**2\n"
     ]
    },
    {
     "data": {
      "image/png": "[encoded data removed]",
      "text/plain": [
       "<Figure size 432x288 with 1 Axes>"
      ]
     },
     "metadata": {
      "needs_background": "light"
     },
     "output_type": "display_data"
    },
    {
     "data": {
      "text/plain": [
       "<sympy.plotting.plot.Plot at 0x26a9df08dd8>"
      ]
     },
     "execution_count": 28,
     "metadata": {},
     "output_type": "execute_result"
    }
   ],
   "source": [
    "xval = sy.Symbol('xval')\n",
    "\n",
    "sresultval = sy.sqrt(2) * ( xval - fitParam[0][0] ) / w \n",
    "fitResultval = 90 / (1 + sy.exp(fitParam[0][1] * sresultval + fitParam[0][2] * sresultval** 3))\n",
    "\n",
    "GaussianBeam = - sy.diff(fitResultval)\n",
    "\n",
    "\n",
    "print(GaussianBeam)\n",
    "\n",
    "sy.plot(GaussianBeam, xlim=(0,5), ylim=(0.50))"
   ]
  },
  {
   "cell_type": "code",
   "execution_count": 41,
   "metadata": {
    "ExecuteTime": {
     "end_time": "2020-02-19T08:17:58.014014Z",
     "start_time": "2020-02-19T08:17:56.863694Z"
    },
    "scrolled": false
   },
   "outputs": [
    {
     "data": {
      "image/png": "[encoded data removed]",
      "text/plain": [
       "<Figure size 432x288 with 1 Axes>"
      ]
     },
     "metadata": {
      "needs_background": "light"
     },
     "output_type": "display_data"
    }
   ],
   "source": [
    "GaussianBeamDX = 90*(-0.318213594224349*np.sqrt(2)*(x - 2.90608528126187)**2 \\\n",
    "    + 1.82430548505015*np.sqrt(2))*np.exp(-0.106071198074783*np.sqrt(2)\\\n",
    "    *(x - 2.90608528126187)**3 + 1.82430548505015*np.sqrt(2)\\\n",
    "    *(x - 2.90608528126187))/(np.exp(-0.106071198074783*np.sqrt(2)\\\n",
    "    *(x - 2.90608528126187)**3 + 1.82430548505015*np.sqrt(2)*(x - 2.90608528126187)) + 1)**2\n",
    "\n",
    "# --------------------------------------目盛り線の調整-----------------------------------------------------------\n",
    "plt.gca().xaxis.set_tick_params(which='major', direction='in',bottom=True, top=True, left=True, right=True)\n",
    "plt.gca().xaxis.set_tick_params(which='minor', direction='in',bottom=False, top=False, left=False, right=False)\n",
    "plt.gca().yaxis.set_tick_params(which='both', direction='in',bottom=True, top=True, left=True, right=True)\n",
    "plt.tick_params(which='major', width = 0.5, length = 8)\n",
    "plt.tick_params(which='minor', width = 0.5, length = 3)\n",
    "# ---------------------------------------------------------------------------------------------------------\n",
    "\n",
    "# plt.xscale('log')\n",
    "# plt.yscale('log')\n",
    "plt.xlim(0, 5) # 横軸範囲設定\n",
    "plt.ylim([0, 60]) # 縦軸範囲設定\n",
    "plt.xlabel(\"x [μm]\", fontsize=18) # 横軸ラベル\n",
    "plt.ylabel(\"Voltage [mV]\", fontsize=18) # 縦軸ラベル\n",
    "# plt.legend(loc='upper left', fontsize=10)\n",
    "plt.grid(False) # 正書ではグリッド消す。\n",
    "plt.plot(x,GaussianBeamDX)\n",
    "# plt.show() # 描画\n",
    "plt.savefig(\"namae.png\",bbox_inches=\"tight\",pad_inches=0.0, dpi=600, transparent=True) # 保存"
   ]
  },
  {
   "cell_type": "code",
   "execution_count": null,
   "metadata": {},
   "outputs": [],
   "source": []
  },
  {
   "cell_type": "code",
   "execution_count": 2,
   "metadata": {
    "ExecuteTime": {
     "end_time": "2020-02-12T07:29:50.542245Z",
     "start_time": "2020-02-12T07:29:46.036482Z"
    }
   },
   "outputs": [
    {
     "ename": "NameError",
     "evalue": "name 'np' is not defined",
     "output_type": "error",
     "traceback": [
      "\u001b[1;31m---------------------------------------------------------------------------\u001b[0m",
      "\u001b[1;31mNameError\u001b[0m                                 Traceback (most recent call last)",
      "\u001b[1;32m<ipython-input-2-095c12d765bf>\u001b[0m in \u001b[0;36m<module>\u001b[1;34m()\u001b[0m\n\u001b[0;32m      1\u001b[0m \u001b[1;32mfrom\u001b[0m \u001b[0mscipy\u001b[0m \u001b[1;32mimport\u001b[0m \u001b[0moptimize\u001b[0m\u001b[1;33m\u001b[0m\u001b[0m\n\u001b[0;32m      2\u001b[0m \u001b[1;32mfrom\u001b[0m \u001b[0msklearn\u001b[0m\u001b[1;33m.\u001b[0m\u001b[0mmetrics\u001b[0m \u001b[1;32mimport\u001b[0m \u001b[0mr2_score\u001b[0m\u001b[1;33m\u001b[0m\u001b[0m\n\u001b[1;32m----> 3\u001b[1;33m \u001b[0mx\u001b[0m \u001b[1;33m=\u001b[0m \u001b[0mnp\u001b[0m\u001b[1;33m.\u001b[0m\u001b[0marange\u001b[0m\u001b[1;33m(\u001b[0m\u001b[1;36m0\u001b[0m\u001b[1;33m,\u001b[0m \u001b[1;36m10\u001b[0m\u001b[1;33m,\u001b[0m \u001b[1;36m0.00001\u001b[0m\u001b[1;33m)\u001b[0m \u001b[1;31m# グラフ描画用\u001b[0m\u001b[1;33m\u001b[0m\u001b[0m\n\u001b[0m\u001b[0;32m      4\u001b[0m \u001b[0mxforR2\u001b[0m \u001b[1;33m=\u001b[0m \u001b[0mnp\u001b[0m\u001b[1;33m.\u001b[0m\u001b[0marray\u001b[0m\u001b[1;33m(\u001b[0m\u001b[1;33m[\u001b[0m\u001b[1;36m10\u001b[0m\u001b[1;33m,\u001b[0m \u001b[1;36m1\u001b[0m\u001b[1;33m,\u001b[0m \u001b[1;36m0.1\u001b[0m\u001b[1;33m,\u001b[0m \u001b[1;36m0.01\u001b[0m\u001b[1;33m,\u001b[0m \u001b[1;36m0.001\u001b[0m\u001b[1;33m]\u001b[0m\u001b[1;33m)\u001b[0m \u001b[1;31m# 決定係数用\u001b[0m\u001b[1;33m\u001b[0m\u001b[0m\n\u001b[0;32m      5\u001b[0m \u001b[1;33m\u001b[0m\u001b[0m\n",
      "\u001b[1;31mNameError\u001b[0m: name 'np' is not defined"
     ]
    }
   ],
   "source": [
    "from scipy import optimize\n",
    "from sklearn.metrics import r2_score\n",
    "x = np.arange(0, 10, 0.00001) # グラフ描画用\n",
    "xforR2 = np.array([10, 1, 0.1, 0.01, 0.001]) # 決定係数用\n",
    "\n",
    "\n",
    "\n",
    "# ---------------------------------------------------------------------------------------------------------\n",
    "def 二次元フィッティング(param,x,y):\n",
    "    residual = y - (param[0]*(x**param[1]) + param[2])\n",
    "    return residual\n",
    "\n",
    "二次元初期値 = [30, 0.5, 10]\n",
    "\n",
    "fit2D8HzParam = optimize.leastsq(二次元フィッティング, 二次元初期値, \\\n",
    "                                 args=(np.array(concentration[0:5]), np.array(data8Hz[0:5])))\n",
    "fit2D8Hz = fit2D8HzParam[0][0]*(x**fit2D8HzParam[0][1]) + fit2D8HzParam[0][2]\n",
    "# print(\"8Hz近似直線: y = {}x^{} + {}\".format(fit2D8HzParam[0][0], fit2D8HzParam[0][1], fit2D8HzParam[0][2]))\n",
    "fit2D8HzR2 = r2_score(data8Hz[0:5], fit2D8HzParam[0][0]*(xforR2**fit2D8HzParam[0][1]) + fit2D8HzParam[0][2])\n",
    "plt.plot(x, fit2D8Hz, color='midnightblue')\n",
    "# print(\"R={}\".format(fit2D8HzR2))"
   ]
  },
  {
   "cell_type": "code",
   "execution_count": null,
   "metadata": {},
   "outputs": [],
   "source": [
    "# --------------------------------------目盛り線の調整-----------------------------------------------------------\n",
    "# plt.gca().xaxis.set_tick_params(which='major', direction='in',bottom=True, top=True, left=True, right=True)\n",
    "# plt.gca().xaxis.set_tick_params(which='minor', direction='in',bottom=False, top=False, left=False, right=False)\n",
    "# plt.gca().yaxis.set_tick_params(which='both', direction='in',bottom=True, top=True, left=True, right=True)\n",
    "# plt.tick_params(which='major', width = 0.5, length = 8)\n",
    "# plt.tick_params(which='minor', width = 0.5, length = 3)\n",
    "# ---------------------------------------------------------------------------------------------------------\n",
    "\n",
    "\n",
    "\n",
    "# --------------------------------------グラフ描画設定-----------------------------------------------------------\n",
    "# plt.xscale('log')\n",
    "# plt.yscale('log')\n",
    "# plt.xlim(0.001, 10)\n",
    "# plt.ylim([0, 50])   \n",
    "# #plt.title(\"Characteristic of the density\")\n",
    "# plt.xlabel(\"Concentration[mM]\", fontsize=18)\n",
    "# plt.ylabel(\"Current [nA]\", fontsize=18) # $10^{-1}$\n",
    "# plt.legend(loc='upper left', fontsize=10)\n",
    "# plt.grid(False)\n",
    "# # plt.show()\n",
    "# os.chdir(r'C:/Users/kammu/kenkyu/修論/図')\n",
    "# plt.savefig(\"5.1.3a 有機酵素fit.png\",bbox_inches=\"tight\",pad_inches=0.0, dpi=600, transparent=True)\n",
    "# ---------------------------------------------------------------------------------------------------------"
   ]
  }
 ],
 "metadata": {
  "kernelspec": {
   "display_name": "Python 3",
   "language": "python",
   "name": "python3"
  },
  "language_info": {
   "codemirror_mode": {
    "name": "ipython",
    "version": 3
   },
   "file_extension": ".py",
   "mimetype": "text/x-python",
   "name": "python",
   "nbconvert_exporter": "python",
   "pygments_lexer": "ipython3",
   "version": "3.7.0"
  }
 },
 "nbformat": 4,
 "nbformat_minor": 2
}
